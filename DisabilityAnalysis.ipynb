{
 "cells": [
  {
   "cell_type": "code",
   "execution_count": 1,
   "metadata": {},
   "outputs": [],
   "source": [
    "import pandas as pd\n",
    "import numpy as np\n",
    "from scipy import stats\n",
    "# import matplotlib.pyplot as plt\n",
    "from matplotlib import pyplot as plt\n",
    "import matplotlib.pylab as plab"
   ]
  },
  {
   "cell_type": "code",
   "execution_count": 2,
   "metadata": {
    "collapsed": true
   },
   "outputs": [],
   "source": [
    "education_data = pd.read_csv('2015_16_Districtwise.csv')\n",
    "education_metadata= pd.read_csv('2015_16_Districtwise_Metadata.csv')"
   ]
  },
  {
   "cell_type": "code",
   "execution_count": 3,
   "metadata": {},
   "outputs": [
    {
     "data": {
      "text/html": [
       "<div>\n",
       "<style>\n",
       "    .dataframe thead tr:only-child th {\n",
       "        text-align: right;\n",
       "    }\n",
       "\n",
       "    .dataframe thead th {\n",
       "        text-align: left;\n",
       "    }\n",
       "\n",
       "    .dataframe tbody tr th {\n",
       "        vertical-align: top;\n",
       "    }\n",
       "</style>\n",
       "<table border=\"1\" class=\"dataframe\">\n",
       "  <thead>\n",
       "    <tr style=\"text-align: right;\">\n",
       "      <th></th>\n",
       "      <th>STATNAME</th>\n",
       "      <th>DISTNAME</th>\n",
       "      <th>DISTRICTS</th>\n",
       "      <th>BLOCKS</th>\n",
       "      <th>VILLAGES</th>\n",
       "      <th>CLUSTERS</th>\n",
       "      <th>TOTPOPULAT</th>\n",
       "      <th>P_URB_POP</th>\n",
       "      <th>POPULATION_0_6</th>\n",
       "      <th>GROWTHRATE</th>\n",
       "      <th>...</th>\n",
       "      <th>UUNI_ALL</th>\n",
       "      <th>UUNI_SC</th>\n",
       "      <th>UUNI_ST</th>\n",
       "      <th>TOTCLS1G</th>\n",
       "      <th>TOTCLS2G</th>\n",
       "      <th>TOTCLS3G</th>\n",
       "      <th>TOTCLS4G</th>\n",
       "      <th>TOTCLS5G</th>\n",
       "      <th>TOTCLS6G</th>\n",
       "      <th>TOTCLS7G</th>\n",
       "    </tr>\n",
       "  </thead>\n",
       "  <tbody>\n",
       "    <tr>\n",
       "      <th>0</th>\n",
       "      <td>JAMMU &amp; KASHMIR</td>\n",
       "      <td>KUPWARA</td>\n",
       "      <td>1</td>\n",
       "      <td>13</td>\n",
       "      <td>391</td>\n",
       "      <td>104</td>\n",
       "      <td>875564.0</td>\n",
       "      <td>11.33</td>\n",
       "      <td>197001.90</td>\n",
       "      <td>34.62</td>\n",
       "      <td>...</td>\n",
       "      <td>21322</td>\n",
       "      <td>26</td>\n",
       "      <td>2594</td>\n",
       "      <td>3489</td>\n",
       "      <td>5315</td>\n",
       "      <td>27</td>\n",
       "      <td>62</td>\n",
       "      <td>23</td>\n",
       "      <td>852</td>\n",
       "      <td>239</td>\n",
       "    </tr>\n",
       "    <tr>\n",
       "      <th>1</th>\n",
       "      <td>JAMMU &amp; KASHMIR</td>\n",
       "      <td>BARAMULA</td>\n",
       "      <td>1</td>\n",
       "      <td>18</td>\n",
       "      <td>678</td>\n",
       "      <td>144</td>\n",
       "      <td>1015503.0</td>\n",
       "      <td>17.19</td>\n",
       "      <td>161871.18</td>\n",
       "      <td>20.34</td>\n",
       "      <td>...</td>\n",
       "      <td>17307</td>\n",
       "      <td>0</td>\n",
       "      <td>1571</td>\n",
       "      <td>4127</td>\n",
       "      <td>5800</td>\n",
       "      <td>210</td>\n",
       "      <td>53</td>\n",
       "      <td>30</td>\n",
       "      <td>1665</td>\n",
       "      <td>360</td>\n",
       "    </tr>\n",
       "    <tr>\n",
       "      <th>2</th>\n",
       "      <td>JAMMU &amp; KASHMIR</td>\n",
       "      <td>SRINAGAR</td>\n",
       "      <td>1</td>\n",
       "      <td>8</td>\n",
       "      <td>94</td>\n",
       "      <td>65</td>\n",
       "      <td>1269751.0</td>\n",
       "      <td>98.73</td>\n",
       "      <td>155798.45</td>\n",
       "      <td>23.56</td>\n",
       "      <td>...</td>\n",
       "      <td>5444</td>\n",
       "      <td>31</td>\n",
       "      <td>408</td>\n",
       "      <td>817</td>\n",
       "      <td>3284</td>\n",
       "      <td>886</td>\n",
       "      <td>11</td>\n",
       "      <td>0</td>\n",
       "      <td>2873</td>\n",
       "      <td>40</td>\n",
       "    </tr>\n",
       "    <tr>\n",
       "      <th>3</th>\n",
       "      <td>JAMMU &amp; KASHMIR</td>\n",
       "      <td>BADGAM</td>\n",
       "      <td>1</td>\n",
       "      <td>13</td>\n",
       "      <td>523</td>\n",
       "      <td>104</td>\n",
       "      <td>735753.0</td>\n",
       "      <td>11.74</td>\n",
       "      <td>150755.79</td>\n",
       "      <td>21.18</td>\n",
       "      <td>...</td>\n",
       "      <td>12469</td>\n",
       "      <td>18</td>\n",
       "      <td>857</td>\n",
       "      <td>2290</td>\n",
       "      <td>3837</td>\n",
       "      <td>119</td>\n",
       "      <td>45</td>\n",
       "      <td>8</td>\n",
       "      <td>1035</td>\n",
       "      <td>325</td>\n",
       "    </tr>\n",
       "    <tr>\n",
       "      <th>4</th>\n",
       "      <td>JAMMU &amp; KASHMIR</td>\n",
       "      <td>PULWAMA</td>\n",
       "      <td>1</td>\n",
       "      <td>8</td>\n",
       "      <td>359</td>\n",
       "      <td>64</td>\n",
       "      <td>570060.0</td>\n",
       "      <td>13.80</td>\n",
       "      <td>97651.28</td>\n",
       "      <td>29.18</td>\n",
       "      <td>...</td>\n",
       "      <td>7408</td>\n",
       "      <td>17</td>\n",
       "      <td>855</td>\n",
       "      <td>1688</td>\n",
       "      <td>2584</td>\n",
       "      <td>151</td>\n",
       "      <td>67</td>\n",
       "      <td>5</td>\n",
       "      <td>1101</td>\n",
       "      <td>209</td>\n",
       "    </tr>\n",
       "  </tbody>\n",
       "</table>\n",
       "<p>5 rows × 816 columns</p>\n",
       "</div>"
      ],
      "text/plain": [
       "          STATNAME  DISTNAME  DISTRICTS  BLOCKS  VILLAGES  CLUSTERS  \\\n",
       "0  JAMMU & KASHMIR   KUPWARA          1      13       391       104   \n",
       "1  JAMMU & KASHMIR  BARAMULA          1      18       678       144   \n",
       "2  JAMMU & KASHMIR  SRINAGAR          1       8        94        65   \n",
       "3  JAMMU & KASHMIR    BADGAM          1      13       523       104   \n",
       "4  JAMMU & KASHMIR   PULWAMA          1       8       359        64   \n",
       "\n",
       "   TOTPOPULAT  P_URB_POP  POPULATION_0_6  GROWTHRATE    ...     UUNI_ALL  \\\n",
       "0    875564.0      11.33       197001.90       34.62    ...        21322   \n",
       "1   1015503.0      17.19       161871.18       20.34    ...        17307   \n",
       "2   1269751.0      98.73       155798.45       23.56    ...         5444   \n",
       "3    735753.0      11.74       150755.79       21.18    ...        12469   \n",
       "4    570060.0      13.80        97651.28       29.18    ...         7408   \n",
       "\n",
       "   UUNI_SC  UUNI_ST  TOTCLS1G  TOTCLS2G  TOTCLS3G  TOTCLS4G  TOTCLS5G  \\\n",
       "0       26     2594      3489      5315        27        62        23   \n",
       "1        0     1571      4127      5800       210        53        30   \n",
       "2       31      408       817      3284       886        11         0   \n",
       "3       18      857      2290      3837       119        45         8   \n",
       "4       17      855      1688      2584       151        67         5   \n",
       "\n",
       "   TOTCLS6G  TOTCLS7G  \n",
       "0       852       239  \n",
       "1      1665       360  \n",
       "2      2873        40  \n",
       "3      1035       325  \n",
       "4      1101       209  \n",
       "\n",
       "[5 rows x 816 columns]"
      ]
     },
     "execution_count": 3,
     "metadata": {},
     "output_type": "execute_result"
    }
   ],
   "source": [
    "education_data.head()\n"
   ]
  },
  {
   "cell_type": "code",
   "execution_count": 4,
   "metadata": {},
   "outputs": [
    {
     "data": {
      "text/plain": [
       "(680, 54)"
      ]
     },
     "execution_count": 4,
     "metadata": {},
     "output_type": "execute_result"
    }
   ],
   "source": [
    "# tackling ratio of failure rates of students with disabilities vs students without disabilities\n",
    "\n",
    "data_small = education_data.loc[:, \"C1_B\":\"C9_GR\"]\n",
    "boys_all = education_data.loc[:, \"C6_B\":\"C8_B\"];\n",
    "girls_all = education_data.loc[:, \"C6_G\":\"C8_G\"];\n",
    "data_small.shape"
   ]
  },
  {
   "cell_type": "code",
   "execution_count": 5,
   "metadata": {
    "collapsed": true
   },
   "outputs": [],
   "source": [
    "# total enrolment of boys and girls\n",
    "t_enrol_boys = sum(sum(boys_all.values[:,:]))\n",
    "t_enrol_girls = sum(sum(girls_all.values[:,:]))\n"
   ]
  },
  {
   "cell_type": "code",
   "execution_count": 6,
   "metadata": {},
   "outputs": [
    {
     "data": {
      "text/plain": [
       "0.011329675607323739"
      ]
     },
     "execution_count": 6,
     "metadata": {},
     "output_type": "execute_result"
    }
   ],
   "source": [
    "boys_dis = data_small.loc[:,\"C6_BD\":\"C8_BD\"]\n",
    "girls_dis = data_small.loc[:,\"C6_GD\":\"C8_GD\"]\n",
    "t_enrol_dis_boys = sum(sum(boys_dis.values[:,:]))\n",
    "t_enrol_dis_girls = sum(sum(girls_dis.values[:,:]))\n",
    "\n",
    "total_enrol = t_enrol_girls+t_enrol_boys\n",
    "total_dis = t_enrol_dis_girls+t_enrol_dis_boys\n",
    "total_dis/total_enrol"
   ]
  },
  {
   "cell_type": "markdown",
   "metadata": {},
   "source": [
    "Students with disabilities account for nearly 2% of students"
   ]
  },
  {
   "cell_type": "code",
   "execution_count": 7,
   "metadata": {},
   "outputs": [
    {
     "name": "stdout",
     "output_type": "stream",
     "text": [
      "3.16558434848\n"
     ]
    }
   ],
   "source": [
    "d1 = data_small.loc[:, \"C6_BR\":\"C8_BR\"]\n",
    "d2 = data_small.loc[:, \"C6_GR\":\"C8_GR\"]\n",
    "\n",
    "total_repeat = sum(sum(d1.values[:,:])) + sum(sum(d2.values[:,:]))\n",
    "print(total_dis/total_repeat)"
   ]
  },
  {
   "cell_type": "code",
   "execution_count": 8,
   "metadata": {},
   "outputs": [],
   "source": [
    "repeat_individual = np.transpose(sum(np.transpose(d2.values)) + sum(np.transpose(d1.values)))\n",
    "data_small[\"repeat\"] = repeat_individual\n",
    "\n",
    "disability = np.transpose(sum(np.transpose(boys_dis.values)) + sum(np.transpose(girls_dis.values)))\n",
    "data_small[\"disability\"] = disability\n",
    "\n",
    "ratio_repeat = repeat_individual/total_repeat\n",
    "dis_repeat = repeat_individual/disability\n",
    "ratio_total_dis = disability/total_dis\n",
    "\n",
    "data_small[\"ratio_total_dis\"] = disability/total_dis\n",
    "\n",
    "\n",
    "# shows the ratio of repeaters with respect to total repeators\n",
    "data_small[\"ratio_repeat\"] = ratio_repeat\n",
    "\n",
    "# show number of repeators with respect to number of disability\n",
    "data_small[\"ratio_dis\"] = dis_repeat"
   ]
  },
  {
   "cell_type": "code",
   "execution_count": 9,
   "metadata": {},
   "outputs": [
    {
     "data": {
      "text/html": [
       "<div>\n",
       "<style>\n",
       "    .dataframe thead tr:only-child th {\n",
       "        text-align: right;\n",
       "    }\n",
       "\n",
       "    .dataframe thead th {\n",
       "        text-align: left;\n",
       "    }\n",
       "\n",
       "    .dataframe tbody tr th {\n",
       "        vertical-align: top;\n",
       "    }\n",
       "</style>\n",
       "<table border=\"1\" class=\"dataframe\">\n",
       "  <thead>\n",
       "    <tr style=\"text-align: right;\">\n",
       "      <th></th>\n",
       "      <th>C1_B</th>\n",
       "      <th>C2_B</th>\n",
       "      <th>C3_B</th>\n",
       "      <th>C4_B</th>\n",
       "      <th>C5_B</th>\n",
       "      <th>C6_B</th>\n",
       "      <th>C7_B</th>\n",
       "      <th>C8_B</th>\n",
       "      <th>C9_B</th>\n",
       "      <th>C1_G</th>\n",
       "      <th>...</th>\n",
       "      <th>C5_GR</th>\n",
       "      <th>C6_GR</th>\n",
       "      <th>C7_GR</th>\n",
       "      <th>C8_GR</th>\n",
       "      <th>C9_GR</th>\n",
       "      <th>repeat</th>\n",
       "      <th>disability</th>\n",
       "      <th>ratio_total_dis</th>\n",
       "      <th>ratio_repeat</th>\n",
       "      <th>ratio_dis</th>\n",
       "    </tr>\n",
       "  </thead>\n",
       "  <tbody>\n",
       "    <tr>\n",
       "      <th>0</th>\n",
       "      <td>11194</td>\n",
       "      <td>9062</td>\n",
       "      <td>8377</td>\n",
       "      <td>8406</td>\n",
       "      <td>7924</td>\n",
       "      <td>6770</td>\n",
       "      <td>6707</td>\n",
       "      <td>6475</td>\n",
       "      <td>6094</td>\n",
       "      <td>11102</td>\n",
       "      <td>...</td>\n",
       "      <td>0</td>\n",
       "      <td>0</td>\n",
       "      <td>0</td>\n",
       "      <td>0</td>\n",
       "      <td>0</td>\n",
       "      <td>0</td>\n",
       "      <td>562</td>\n",
       "      <td>0.000734</td>\n",
       "      <td>0.000000</td>\n",
       "      <td>0.000000</td>\n",
       "    </tr>\n",
       "    <tr>\n",
       "      <th>1</th>\n",
       "      <td>20820</td>\n",
       "      <td>11118</td>\n",
       "      <td>10962</td>\n",
       "      <td>10617</td>\n",
       "      <td>10110</td>\n",
       "      <td>9793</td>\n",
       "      <td>9516</td>\n",
       "      <td>9384</td>\n",
       "      <td>7450</td>\n",
       "      <td>19911</td>\n",
       "      <td>...</td>\n",
       "      <td>7</td>\n",
       "      <td>11</td>\n",
       "      <td>8</td>\n",
       "      <td>9</td>\n",
       "      <td>25</td>\n",
       "      <td>43</td>\n",
       "      <td>1008</td>\n",
       "      <td>0.001316</td>\n",
       "      <td>0.000178</td>\n",
       "      <td>0.042659</td>\n",
       "    </tr>\n",
       "    <tr>\n",
       "      <th>2</th>\n",
       "      <td>8521</td>\n",
       "      <td>7856</td>\n",
       "      <td>7721</td>\n",
       "      <td>7739</td>\n",
       "      <td>7666</td>\n",
       "      <td>7376</td>\n",
       "      <td>7312</td>\n",
       "      <td>7155</td>\n",
       "      <td>5752</td>\n",
       "      <td>7893</td>\n",
       "      <td>...</td>\n",
       "      <td>8</td>\n",
       "      <td>16</td>\n",
       "      <td>13</td>\n",
       "      <td>17</td>\n",
       "      <td>18</td>\n",
       "      <td>109</td>\n",
       "      <td>772</td>\n",
       "      <td>0.001008</td>\n",
       "      <td>0.000451</td>\n",
       "      <td>0.141192</td>\n",
       "    </tr>\n",
       "    <tr>\n",
       "      <th>3</th>\n",
       "      <td>7927</td>\n",
       "      <td>6725</td>\n",
       "      <td>6225</td>\n",
       "      <td>6033</td>\n",
       "      <td>6004</td>\n",
       "      <td>5488</td>\n",
       "      <td>5144</td>\n",
       "      <td>5195</td>\n",
       "      <td>4831</td>\n",
       "      <td>7577</td>\n",
       "      <td>...</td>\n",
       "      <td>1</td>\n",
       "      <td>0</td>\n",
       "      <td>0</td>\n",
       "      <td>0</td>\n",
       "      <td>5</td>\n",
       "      <td>0</td>\n",
       "      <td>454</td>\n",
       "      <td>0.000593</td>\n",
       "      <td>0.000000</td>\n",
       "      <td>0.000000</td>\n",
       "    </tr>\n",
       "    <tr>\n",
       "      <th>4</th>\n",
       "      <td>4808</td>\n",
       "      <td>4189</td>\n",
       "      <td>3923</td>\n",
       "      <td>3976</td>\n",
       "      <td>3896</td>\n",
       "      <td>3433</td>\n",
       "      <td>3450</td>\n",
       "      <td>3520</td>\n",
       "      <td>3299</td>\n",
       "      <td>4754</td>\n",
       "      <td>...</td>\n",
       "      <td>8</td>\n",
       "      <td>0</td>\n",
       "      <td>0</td>\n",
       "      <td>6</td>\n",
       "      <td>0</td>\n",
       "      <td>9</td>\n",
       "      <td>573</td>\n",
       "      <td>0.000748</td>\n",
       "      <td>0.000037</td>\n",
       "      <td>0.015707</td>\n",
       "    </tr>\n",
       "  </tbody>\n",
       "</table>\n",
       "<p>5 rows × 59 columns</p>\n",
       "</div>"
      ],
      "text/plain": [
       "    C1_B   C2_B   C3_B   C4_B   C5_B  C6_B  C7_B  C8_B  C9_B   C1_G  \\\n",
       "0  11194   9062   8377   8406   7924  6770  6707  6475  6094  11102   \n",
       "1  20820  11118  10962  10617  10110  9793  9516  9384  7450  19911   \n",
       "2   8521   7856   7721   7739   7666  7376  7312  7155  5752   7893   \n",
       "3   7927   6725   6225   6033   6004  5488  5144  5195  4831   7577   \n",
       "4   4808   4189   3923   3976   3896  3433  3450  3520  3299   4754   \n",
       "\n",
       "     ...      C5_GR  C6_GR  C7_GR  C8_GR  C9_GR  repeat  disability  \\\n",
       "0    ...          0      0      0      0      0       0         562   \n",
       "1    ...          7     11      8      9     25      43        1008   \n",
       "2    ...          8     16     13     17     18     109         772   \n",
       "3    ...          1      0      0      0      5       0         454   \n",
       "4    ...          8      0      0      6      0       9         573   \n",
       "\n",
       "   ratio_total_dis  ratio_repeat  ratio_dis  \n",
       "0         0.000734      0.000000   0.000000  \n",
       "1         0.001316      0.000178   0.042659  \n",
       "2         0.001008      0.000451   0.141192  \n",
       "3         0.000593      0.000000   0.000000  \n",
       "4         0.000748      0.000037   0.015707  \n",
       "\n",
       "[5 rows x 59 columns]"
      ]
     },
     "execution_count": 9,
     "metadata": {},
     "output_type": "execute_result"
    }
   ],
   "source": [
    "data_small.head()"
   ]
  },
  {
   "cell_type": "code",
   "execution_count": 10,
   "metadata": {},
   "outputs": [
    {
     "data": {
      "text/plain": [
       "0.025607744741008354"
      ]
     },
     "execution_count": 10,
     "metadata": {},
     "output_type": "execute_result"
    }
   ],
   "source": [
    "max(data_small.loc[:, \"ratio_repeat\"])"
   ]
  },
  {
   "cell_type": "code",
   "execution_count": 11,
   "metadata": {},
   "outputs": [
    {
     "data": {
      "text/plain": [
       "LinregressResult(slope=0.049646374298294209, intercept=0.0013975788613260379, rvalue=0.094321783665663392, pvalue=0.013871509772899785, stderr=0.020124271539059366)"
      ]
     },
     "execution_count": 11,
     "metadata": {},
     "output_type": "execute_result"
    }
   ],
   "source": [
    "stats.linregress(ratio_repeat, ratio_total_dis)"
   ]
  },
  {
   "cell_type": "code",
   "execution_count": 12,
   "metadata": {},
   "outputs": [
    {
     "data": {
      "text/plain": [
       "[<matplotlib.lines.Line2D at 0x2466093a668>]"
      ]
     },
     "execution_count": 12,
     "metadata": {},
     "output_type": "execute_result"
    }
   ],
   "source": [
    "plt.xlabel('Ratio: repeats in district vs total repeats')\n",
    "plt.ylabel('Ratio: disabilities in district vs total disabilities')\n",
    "plt.plot(ratio_repeat, ratio_total_dis,'o')\n"
   ]
  },
  {
   "cell_type": "code",
   "execution_count": 13,
   "metadata": {},
   "outputs": [
    {
     "data": {
      "image/png": "[encoded data removed]",
      "text/plain": [
       "<matplotlib.figure.Figure at 0x2466012cdd8>"
      ]
     },
     "metadata": {},
     "output_type": "display_data"
    }
   ],
   "source": [
    "plt.show()"
   ]
  },
  {
   "cell_type": "code",
   "execution_count": 16,
   "metadata": {},
   "outputs": [
    {
     "data": {
      "text/plain": [
       "0.094321783665663392"
      ]
     },
     "execution_count": 16,
     "metadata": {},
     "output_type": "execute_result"
    }
   ],
   "source": [
    "np.corrcoef(ratio_repeat, ratio_total_dis)[1,0]"
   ]
  },
  {
   "cell_type": "markdown",
   "metadata": {},
   "source": [
    "NO big correlation seen"
   ]
  }
 ],
 "metadata": {
  "kernelspec": {
   "display_name": "Python 3",
   "language": "python",
   "name": "python3"
  },
  "language_info": {
   "codemirror_mode": {
    "name": "ipython",
    "version": 3
   },
   "file_extension": ".py",
   "mimetype": "text/x-python",
   "name": "python",
   "nbconvert_exporter": "python",
   "pygments_lexer": "ipython3",
   "version": "3.6.1"
  }
 },
 "nbformat": 4,
 "nbformat_minor": 2
}
