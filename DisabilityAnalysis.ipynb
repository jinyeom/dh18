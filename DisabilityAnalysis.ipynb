{
 "cells": [
  {
   "cell_type": "code",
   "execution_count": 1,
   "metadata": {},
   "outputs": [],
   "source": [
    "import pandas as pd\n",
    "import numpy as np\n",
    "from scipy import stats\n",
    "# import matplotlib.pyplot as plt\n",
    "from matplotlib import pyplot as plt\n",
    "import matplotlib.pylab as plab"
   ]
  },
  {
   "cell_type": "code",
   "execution_count": 2,
   "metadata": {
    "collapsed": true
   },
   "outputs": [],
   "source": [
    "education_data = pd.read_csv('2015_16_Districtwise.csv')\n",
    "education_metadata= pd.read_csv('2015_16_Districtwise_Metadata.csv')"
   ]
  },
  {
   "cell_type": "code",
   "execution_count": 3,
   "metadata": {},
   "outputs": [
    {
     "data": {
      "text/html": [
       "<div>\n",
       "<style>\n",
       "    .dataframe thead tr:only-child th {\n",
       "        text-align: right;\n",
       "    }\n",
       "\n",
       "    .dataframe thead th {\n",
       "        text-align: left;\n",
       "    }\n",
       "\n",
       "    .dataframe tbody tr th {\n",
       "        vertical-align: top;\n",
       "    }\n",
       "</style>\n",
       "<table border=\"1\" class=\"dataframe\">\n",
       "  <thead>\n",
       "    <tr style=\"text-align: right;\">\n",
       "      <th></th>\n",
       "      <th>STATNAME</th>\n",
       "      <th>DISTNAME</th>\n",
       "      <th>DISTRICTS</th>\n",
       "      <th>BLOCKS</th>\n",
       "      <th>VILLAGES</th>\n",
       "      <th>CLUSTERS</th>\n",
       "      <th>TOTPOPULAT</th>\n",
       "      <th>P_URB_POP</th>\n",
       "      <th>POPULATION_0_6</th>\n",
       "      <th>GROWTHRATE</th>\n",
       "      <th>...</th>\n",
       "      <th>UUNI_ALL</th>\n",
       "      <th>UUNI_SC</th>\n",
       "      <th>UUNI_ST</th>\n",
       "      <th>TOTCLS1G</th>\n",
       "      <th>TOTCLS2G</th>\n",
       "      <th>TOTCLS3G</th>\n",
       "      <th>TOTCLS4G</th>\n",
       "      <th>TOTCLS5G</th>\n",
       "      <th>TOTCLS6G</th>\n",
       "      <th>TOTCLS7G</th>\n",
       "    </tr>\n",
       "  </thead>\n",
       "  <tbody>\n",
       "    <tr>\n",
       "      <th>0</th>\n",
       "      <td>JAMMU &amp; KASHMIR</td>\n",
       "      <td>KUPWARA</td>\n",
       "      <td>1</td>\n",
       "      <td>13</td>\n",
       "      <td>391</td>\n",
       "      <td>104</td>\n",
       "      <td>875564.0</td>\n",
       "      <td>11.33</td>\n",
       "      <td>197001.90</td>\n",
       "      <td>34.62</td>\n",
       "      <td>...</td>\n",
       "      <td>21322</td>\n",
       "      <td>26</td>\n",
       "      <td>2594</td>\n",
       "      <td>3489</td>\n",
       "      <td>5315</td>\n",
       "      <td>27</td>\n",
       "      <td>62</td>\n",
       "      <td>23</td>\n",
       "      <td>852</td>\n",
       "      <td>239</td>\n",
       "    </tr>\n",
       "    <tr>\n",
       "      <th>1</th>\n",
       "      <td>JAMMU &amp; KASHMIR</td>\n",
       "      <td>BARAMULA</td>\n",
       "      <td>1</td>\n",
       "      <td>18</td>\n",
       "      <td>678</td>\n",
       "      <td>144</td>\n",
       "      <td>1015503.0</td>\n",
       "      <td>17.19</td>\n",
       "      <td>161871.18</td>\n",
       "      <td>20.34</td>\n",
       "      <td>...</td>\n",
       "      <td>17307</td>\n",
       "      <td>0</td>\n",
       "      <td>1571</td>\n",
       "      <td>4127</td>\n",
       "      <td>5800</td>\n",
       "      <td>210</td>\n",
       "      <td>53</td>\n",
       "      <td>30</td>\n",
       "      <td>1665</td>\n",
       "      <td>360</td>\n",
       "    </tr>\n",
       "    <tr>\n",
       "      <th>2</th>\n",
       "      <td>JAMMU &amp; KASHMIR</td>\n",
       "      <td>SRINAGAR</td>\n",
       "      <td>1</td>\n",
       "      <td>8</td>\n",
       "      <td>94</td>\n",
       "      <td>65</td>\n",
       "      <td>1269751.0</td>\n",
       "      <td>98.73</td>\n",
       "      <td>155798.45</td>\n",
       "      <td>23.56</td>\n",
       "      <td>...</td>\n",
       "      <td>5444</td>\n",
       "      <td>31</td>\n",
       "      <td>408</td>\n",
       "      <td>817</td>\n",
       "      <td>3284</td>\n",
       "      <td>886</td>\n",
       "      <td>11</td>\n",
       "      <td>0</td>\n",
       "      <td>2873</td>\n",
       "      <td>40</td>\n",
       "    </tr>\n",
       "    <tr>\n",
       "      <th>3</th>\n",
       "      <td>JAMMU &amp; KASHMIR</td>\n",
       "      <td>BADGAM</td>\n",
       "      <td>1</td>\n",
       "      <td>13</td>\n",
       "      <td>523</td>\n",
       "      <td>104</td>\n",
       "      <td>735753.0</td>\n",
       "      <td>11.74</td>\n",
       "      <td>150755.79</td>\n",
       "      <td>21.18</td>\n",
       "      <td>...</td>\n",
       "      <td>12469</td>\n",
       "      <td>18</td>\n",
       "      <td>857</td>\n",
       "      <td>2290</td>\n",
       "      <td>3837</td>\n",
       "      <td>119</td>\n",
       "      <td>45</td>\n",
       "      <td>8</td>\n",
       "      <td>1035</td>\n",
       "      <td>325</td>\n",
       "    </tr>\n",
       "    <tr>\n",
       "      <th>4</th>\n",
       "      <td>JAMMU &amp; KASHMIR</td>\n",
       "      <td>PULWAMA</td>\n",
       "      <td>1</td>\n",
       "      <td>8</td>\n",
       "      <td>359</td>\n",
       "      <td>64</td>\n",
       "      <td>570060.0</td>\n",
       "      <td>13.80</td>\n",
       "      <td>97651.28</td>\n",
       "      <td>29.18</td>\n",
       "      <td>...</td>\n",
       "      <td>7408</td>\n",
       "      <td>17</td>\n",
       "      <td>855</td>\n",
       "      <td>1688</td>\n",
       "      <td>2584</td>\n",
       "      <td>151</td>\n",
       "      <td>67</td>\n",
       "      <td>5</td>\n",
       "      <td>1101</td>\n",
       "      <td>209</td>\n",
       "    </tr>\n",
       "  </tbody>\n",
       "</table>\n",
       "<p>5 rows × 816 columns</p>\n",
       "</div>"
      ],
      "text/plain": [
       "          STATNAME  DISTNAME  DISTRICTS  BLOCKS  VILLAGES  CLUSTERS  \\\n",
       "0  JAMMU & KASHMIR   KUPWARA          1      13       391       104   \n",
       "1  JAMMU & KASHMIR  BARAMULA          1      18       678       144   \n",
       "2  JAMMU & KASHMIR  SRINAGAR          1       8        94        65   \n",
       "3  JAMMU & KASHMIR    BADGAM          1      13       523       104   \n",
       "4  JAMMU & KASHMIR   PULWAMA          1       8       359        64   \n",
       "\n",
       "   TOTPOPULAT  P_URB_POP  POPULATION_0_6  GROWTHRATE    ...     UUNI_ALL  \\\n",
       "0    875564.0      11.33       197001.90       34.62    ...        21322   \n",
       "1   1015503.0      17.19       161871.18       20.34    ...        17307   \n",
       "2   1269751.0      98.73       155798.45       23.56    ...         5444   \n",
       "3    735753.0      11.74       150755.79       21.18    ...        12469   \n",
       "4    570060.0      13.80        97651.28       29.18    ...         7408   \n",
       "\n",
       "   UUNI_SC  UUNI_ST  TOTCLS1G  TOTCLS2G  TOTCLS3G  TOTCLS4G  TOTCLS5G  \\\n",
       "0       26     2594      3489      5315        27        62        23   \n",
       "1        0     1571      4127      5800       210        53        30   \n",
       "2       31      408       817      3284       886        11         0   \n",
       "3       18      857      2290      3837       119        45         8   \n",
       "4       17      855      1688      2584       151        67         5   \n",
       "\n",
       "   TOTCLS6G  TOTCLS7G  \n",
       "0       852       239  \n",
       "1      1665       360  \n",
       "2      2873        40  \n",
       "3      1035       325  \n",
       "4      1101       209  \n",
       "\n",
       "[5 rows x 816 columns]"
      ]
     },
     "execution_count": 3,
     "metadata": {},
     "output_type": "execute_result"
    }
   ],
   "source": [
    "education_data.head()\n"
   ]
  },
  {
   "cell_type": "code",
   "execution_count": 4,
   "metadata": {},
   "outputs": [
    {
     "data": {
      "text/plain": [
       "(680, 54)"
      ]
     },
     "execution_count": 4,
     "metadata": {},
     "output_type": "execute_result"
    }
   ],
   "source": [
    "# tackling ratio of failure rates of students with disabilities vs students without disabilities\n",
    "\n",
    "data_small = education_data.loc[:, \"C1_B\":\"C9_GR\"]\n",
    "boys_all = education_data.loc[:, \"C6_B\":\"C8_B\"];\n",
    "girls_all = education_data.loc[:, \"C6_G\":\"C8_G\"];\n",
    "data_small.shape"
   ]
  },
  {
   "cell_type": "code",
   "execution_count": 5,
   "metadata": {
    "collapsed": true
   },
   "outputs": [],
   "source": [
    "# total enrolment of boys and girls\n",
    "t_enrol_boys = sum(sum(boys_all.values[:,:]))\n",
    "t_enrol_girls = sum(sum(girls_all.values[:,:]))\n"
   ]
  },
  {
   "cell_type": "code",
   "execution_count": 6,
   "metadata": {},
   "outputs": [
    {
     "data": {
      "text/plain": [
       "0.011329675607323739"
      ]
     },
     "execution_count": 6,
     "metadata": {},
     "output_type": "execute_result"
    }
   ],
   "source": [
    "boys_dis = data_small.loc[:,\"C6_BD\":\"C8_BD\"]\n",
    "girls_dis = data_small.loc[:,\"C6_GD\":\"C8_GD\"]\n",
    "t_enrol_dis_boys = sum(sum(boys_dis.values[:,:]))\n",
    "t_enrol_dis_girls = sum(sum(girls_dis.values[:,:]))\n",
    "\n",
    "total_enrol = t_enrol_girls+t_enrol_boys\n",
    "total_dis = t_enrol_dis_girls+t_enrol_dis_boys\n",
    "total_dis/total_enrol"
   ]
  },
  {
   "cell_type": "markdown",
   "metadata": {},
   "source": [
    "Students with disabilities account for nearly 2% of students"
   ]
  },
  {
   "cell_type": "code",
   "execution_count": 7,
   "metadata": {},
   "outputs": [
    {
     "name": "stdout",
     "output_type": "stream",
     "text": [
      "3.16558434848\n"
     ]
    }
   ],
   "source": [
    "d1 = data_small.loc[:, \"C6_BR\":\"C8_BR\"]\n",
    "d2 = data_small.loc[:, \"C6_GR\":\"C8_GR\"]\n",
    "\n",
    "total_repeat = sum(sum(d1.values[:,:])) + sum(sum(d2.values[:,:]))\n",
    "print(total_dis/total_repeat)"
   ]
  },
  {
   "cell_type": "code",
   "execution_count": 8,
   "metadata": {},
   "outputs": [],
   "source": [
    "repeat_individual = np.transpose(sum(np.transpose(d2.values)) + sum(np.transpose(d1.values)))\n",
    "data_small[\"repeat\"] = repeat_individual\n",
    "\n",
    "disability = np.transpose(sum(np.transpose(boys_dis.values)) + sum(np.transpose(girls_dis.values)))\n",
    "data_small[\"disability\"] = disability\n",
    "\n",
    "ratio_repeat = repeat_individual/total_repeat\n",
    "dis_repeat = repeat_individual/disability\n",
    "ratio_total_dis = disability/total_dis\n",
    "\n",
    "data_small[\"ratio_total_dis\"] = disability/total_dis\n",
    "\n",
    "\n",
    "# shows the ratio of repeaters with respect to total repeators\n",
    "data_small[\"ratio_repeat\"] = ratio_repeat\n",
    "\n",
    "# show number of repeators with respect to number of disability\n",
    "data_small[\"ratio_dis\"] = dis_repeat"
   ]
  },
  {
   "cell_type": "code",
   "execution_count": 9,
   "metadata": {},
   "outputs": [
    {
     "data": {
      "text/html": [
       "<div>\n",
       "<style>\n",
       "    .dataframe thead tr:only-child th {\n",
       "        text-align: right;\n",
       "    }\n",
       "\n",
       "    .dataframe thead th {\n",
       "        text-align: left;\n",
       "    }\n",
       "\n",
       "    .dataframe tbody tr th {\n",
       "        vertical-align: top;\n",
       "    }\n",
       "</style>\n",
       "<table border=\"1\" class=\"dataframe\">\n",
       "  <thead>\n",
       "    <tr style=\"text-align: right;\">\n",
       "      <th></th>\n",
       "      <th>C1_B</th>\n",
       "      <th>C2_B</th>\n",
       "      <th>C3_B</th>\n",
       "      <th>C4_B</th>\n",
       "      <th>C5_B</th>\n",
       "      <th>C6_B</th>\n",
       "      <th>C7_B</th>\n",
       "      <th>C8_B</th>\n",
       "      <th>C9_B</th>\n",
       "      <th>C1_G</th>\n",
       "      <th>...</th>\n",
       "      <th>C5_GR</th>\n",
       "      <th>C6_GR</th>\n",
       "      <th>C7_GR</th>\n",
       "      <th>C8_GR</th>\n",
       "      <th>C9_GR</th>\n",
       "      <th>repeat</th>\n",
       "      <th>disability</th>\n",
       "      <th>ratio_total_dis</th>\n",
       "      <th>ratio_repeat</th>\n",
       "      <th>ratio_dis</th>\n",
       "    </tr>\n",
       "  </thead>\n",
       "  <tbody>\n",
       "    <tr>\n",
       "      <th>0</th>\n",
       "      <td>11194</td>\n",
       "      <td>9062</td>\n",
       "      <td>8377</td>\n",
       "      <td>8406</td>\n",
       "      <td>7924</td>\n",
       "      <td>6770</td>\n",
       "      <td>6707</td>\n",
       "      <td>6475</td>\n",
       "      <td>6094</td>\n",
       "      <td>11102</td>\n",
       "      <td>...</td>\n",
       "      <td>0</td>\n",
       "      <td>0</td>\n",
       "      <td>0</td>\n",
       "      <td>0</td>\n",
       "      <td>0</td>\n",
       "      <td>0</td>\n",
       "      <td>562</td>\n",
       "      <td>0.000734</td>\n",
       "      <td>0.000000</td>\n",
       "      <td>0.000000</td>\n",
       "    </tr>\n",
       "    <tr>\n",
       "      <th>1</th>\n",
       "      <td>20820</td>\n",
       "      <td>11118</td>\n",
       "      <td>10962</td>\n",
       "      <td>10617</td>\n",
       "      <td>10110</td>\n",
       "      <td>9793</td>\n",
       "      <td>9516</td>\n",
       "      <td>9384</td>\n",
       "      <td>7450</td>\n",
       "      <td>19911</td>\n",
       "      <td>...</td>\n",
       "      <td>7</td>\n",
       "      <td>11</td>\n",
       "      <td>8</td>\n",
       "      <td>9</td>\n",
       "      <td>25</td>\n",
       "      <td>43</td>\n",
       "      <td>1008</td>\n",
       "      <td>0.001316</td>\n",
       "      <td>0.000178</td>\n",
       "      <td>0.042659</td>\n",
       "    </tr>\n",
       "    <tr>\n",
       "      <th>2</th>\n",
       "      <td>8521</td>\n",
       "      <td>7856</td>\n",
       "      <td>7721</td>\n",
       "      <td>7739</td>\n",
       "      <td>7666</td>\n",
       "      <td>7376</td>\n",
       "      <td>7312</td>\n",
       "      <td>7155</td>\n",
       "      <td>5752</td>\n",
       "      <td>7893</td>\n",
       "      <td>...</td>\n",
       "      <td>8</td>\n",
       "      <td>16</td>\n",
       "      <td>13</td>\n",
       "      <td>17</td>\n",
       "      <td>18</td>\n",
       "      <td>109</td>\n",
       "      <td>772</td>\n",
       "      <td>0.001008</td>\n",
       "      <td>0.000451</td>\n",
       "      <td>0.141192</td>\n",
       "    </tr>\n",
       "    <tr>\n",
       "      <th>3</th>\n",
       "      <td>7927</td>\n",
       "      <td>6725</td>\n",
       "      <td>6225</td>\n",
       "      <td>6033</td>\n",
       "      <td>6004</td>\n",
       "      <td>5488</td>\n",
       "      <td>5144</td>\n",
       "      <td>5195</td>\n",
       "      <td>4831</td>\n",
       "      <td>7577</td>\n",
       "      <td>...</td>\n",
       "      <td>1</td>\n",
       "      <td>0</td>\n",
       "      <td>0</td>\n",
       "      <td>0</td>\n",
       "      <td>5</td>\n",
       "      <td>0</td>\n",
       "      <td>454</td>\n",
       "      <td>0.000593</td>\n",
       "      <td>0.000000</td>\n",
       "      <td>0.000000</td>\n",
       "    </tr>\n",
       "    <tr>\n",
       "      <th>4</th>\n",
       "      <td>4808</td>\n",
       "      <td>4189</td>\n",
       "      <td>3923</td>\n",
       "      <td>3976</td>\n",
       "      <td>3896</td>\n",
       "      <td>3433</td>\n",
       "      <td>3450</td>\n",
       "      <td>3520</td>\n",
       "      <td>3299</td>\n",
       "      <td>4754</td>\n",
       "      <td>...</td>\n",
       "      <td>8</td>\n",
       "      <td>0</td>\n",
       "      <td>0</td>\n",
       "      <td>6</td>\n",
       "      <td>0</td>\n",
       "      <td>9</td>\n",
       "      <td>573</td>\n",
       "      <td>0.000748</td>\n",
       "      <td>0.000037</td>\n",
       "      <td>0.015707</td>\n",
       "    </tr>\n",
       "  </tbody>\n",
       "</table>\n",
       "<p>5 rows × 59 columns</p>\n",
       "</div>"
      ],
      "text/plain": [
       "    C1_B   C2_B   C3_B   C4_B   C5_B  C6_B  C7_B  C8_B  C9_B   C1_G  \\\n",
       "0  11194   9062   8377   8406   7924  6770  6707  6475  6094  11102   \n",
       "1  20820  11118  10962  10617  10110  9793  9516  9384  7450  19911   \n",
       "2   8521   7856   7721   7739   7666  7376  7312  7155  5752   7893   \n",
       "3   7927   6725   6225   6033   6004  5488  5144  5195  4831   7577   \n",
       "4   4808   4189   3923   3976   3896  3433  3450  3520  3299   4754   \n",
       "\n",
       "     ...      C5_GR  C6_GR  C7_GR  C8_GR  C9_GR  repeat  disability  \\\n",
       "0    ...          0      0      0      0      0       0         562   \n",
       "1    ...          7     11      8      9     25      43        1008   \n",
       "2    ...          8     16     13     17     18     109         772   \n",
       "3    ...          1      0      0      0      5       0         454   \n",
       "4    ...          8      0      0      6      0       9         573   \n",
       "\n",
       "   ratio_total_dis  ratio_repeat  ratio_dis  \n",
       "0         0.000734      0.000000   0.000000  \n",
       "1         0.001316      0.000178   0.042659  \n",
       "2         0.001008      0.000451   0.141192  \n",
       "3         0.000593      0.000000   0.000000  \n",
       "4         0.000748      0.000037   0.015707  \n",
       "\n",
       "[5 rows x 59 columns]"
      ]
     },
     "execution_count": 9,
     "metadata": {},
     "output_type": "execute_result"
    }
   ],
   "source": [
    "data_small.head()"
   ]
  },
  {
   "cell_type": "code",
   "execution_count": 10,
   "metadata": {},
   "outputs": [
    {
     "data": {
      "text/plain": [
       "0.025607744741008354"
      ]
     },
     "execution_count": 10,
     "metadata": {},
     "output_type": "execute_result"
    }
   ],
   "source": [
    "max(data_small.loc[:, \"ratio_repeat\"])"
   ]
  },
  {
   "cell_type": "code",
   "execution_count": 11,
   "metadata": {},
   "outputs": [
    {
     "data": {
      "text/plain": [
       "LinregressResult(slope=0.049646374298294209, intercept=0.0013975788613260379, rvalue=0.094321783665663392, pvalue=0.013871509772899785, stderr=0.020124271539059366)"
      ]
     },
     "execution_count": 11,
     "metadata": {},
     "output_type": "execute_result"
    }
   ],
   "source": [
    "stats.linregress(ratio_repeat, ratio_total_dis)"
   ]
  },
  {
   "cell_type": "code",
   "execution_count": 12,
   "metadata": {},
   "outputs": [
    {
     "data": {
      "text/plain": [
       "[<matplotlib.lines.Line2D at 0x2466093a668>]"
      ]
     },
     "execution_count": 12,
     "metadata": {},
     "output_type": "execute_result"
    }
   ],
   "source": [
    "plt.xlabel('Ratio: repeats in district vs total repeats')\n",
    "plt.ylabel('Ratio: disabilities in district vs total disabilities')\n",
    "plt.plot(ratio_repeat, ratio_total_dis,'o')\n"
   ]
  },
  {
   "cell_type": "code",
   "execution_count": 13,
   "metadata": {},
   "outputs": [
    {
     "data": {
      "image/png": "[encoded data removed]",
      "text/plain": [
       "<matplotlib.figure.Figure at 0x2466012cdd8>"
      ]
     },
     "metadata": {},
     "output_type": "display_data"
    }
   ],
   "source": [
    "plt.show()"
   ]
  },
  {
   "cell_type": "code",
   "execution_count": 22,
   "metadata": {},
   "outputs": [
    {
     "data": {
      "text/plain": [
       "0.094321783665663336"
      ]
     },
     "execution_count": 22,
     "metadata": {},
     "output_type": "execute_result"
    }
   ],
   "source": [
    "norm_ratio_repeat = (ratio_repeat-np.mean(ratio_repeat))/np.std(ratio_repeat)\n",
    "norm_ratio_dis = (ratio_total_dis-np.mean(ratio_total_dis))/np.std(ratio_total_dis)\n",
    "plt.plot(norm_ratio_repeat, norm_ratio_dis,'x')\n",
    "np.corrcoef(norm_ratio_repeat, norm_ratio_dis)[1,0]"
   ]
  },
  {
   "cell_type": "markdown",
   "metadata": {},
   "source": [
    "NO big correlation seen"
   ]
  },
  {
   "cell_type": "code",
   "execution_count": 23,
   "metadata": {},
   "outputs": [
    {
     "data": {
      "image/png": "[encoded data removed]",
      "text/plain": [
       "<matplotlib.figure.Figure at 0x24660a9e400>"
      ]
     },
     "metadata": {},
     "output_type": "display_data"
    }
   ],
   "source": [
    "plt.show()"
   ]
  },
  {
   "cell_type": "code",
   "execution_count": 31,
   "metadata": {},
   "outputs": [
    {
     "name": "stdout",
     "output_type": "stream",
     "text": [
      "[  0.00000000e+00   7.46022658e-04   2.55838517e-03   0.00000000e+00\n",
      "   4.36279025e-04   1.92017205e-03   9.37327697e-03   0.00000000e+00\n",
      "   1.65241459e-04   2.31779167e-02   9.71847548e-03   5.93786449e-03\n",
      "   1.63924010e-03   1.14882507e-02   0.00000000e+00   5.76522714e-03\n",
      "   0.00000000e+00   1.80072029e-04   1.21719285e-03   1.41368658e-03\n",
      "   1.11784867e-02   1.27234171e-03   7.49872522e-04   9.09479254e-04\n",
      "   0.00000000e+00   1.76017165e-02   4.46990073e-03   7.73617435e-03\n",
      "   3.79140139e-03   1.00870673e-03   1.66949553e-04   1.13344867e-03\n",
      "   9.03677271e-04   4.55275844e-03   0.00000000e+00   2.32187128e-04\n",
      "   4.72950363e-03   0.00000000e+00   0.00000000e+00   0.00000000e+00\n",
      "   3.05064063e-03   0.00000000e+00   7.94128638e-04   0.00000000e+00\n",
      "   7.76276976e-05   0.00000000e+00   0.00000000e+00   7.78469751e-03\n",
      "   0.00000000e+00   0.00000000e+00   1.01137800e-03   0.00000000e+00\n",
      "   5.01439617e-03   0.00000000e+00   0.00000000e+00   2.88500375e-05\n",
      "   1.32939667e-03   1.38340884e-02   1.70321482e-04   1.24983555e-02\n",
      "   1.18091884e-02   7.03347936e-03   4.10595363e-03   7.04523038e-05\n",
      "   2.57898130e-04   0.00000000e+00   5.77867668e-05   4.19479352e-03\n",
      "   1.76092507e-04   1.28564253e-02   3.58275206e-03   1.83131017e-03\n",
      "   1.69016885e-03   2.24596104e-03   1.35734027e-03   4.64952861e-03\n",
      "   3.08420170e-03   1.77707572e-03   2.70686767e-03   3.15078770e-03\n",
      "   1.91169904e-03   1.65472164e-03   1.42208308e-03   1.76079423e-03\n",
      "   3.56090130e-03   1.96811216e-03   2.14437367e-03   3.05874004e-03\n",
      "   2.03981345e-04   6.54232328e-03   4.28049470e-04   4.03432456e-03\n",
      "   8.90299446e-03   6.10128127e-04   1.54260465e-03   1.39872761e-03\n",
      "   4.36655628e-03   1.49530090e-03   5.90697239e-04   1.46394281e-03\n",
      "   4.19335514e-03   6.75001994e-03   6.08813225e-03   9.12467764e-03\n",
      "   3.13109045e-03   6.43043860e-03   4.41495371e-03   1.97703852e-02\n",
      "   3.60727372e-03   1.65808270e-02   1.04831961e-03   1.09810558e-03\n",
      "   2.03778762e-02   1.30114943e-02   2.83353239e-03   7.01532446e-03\n",
      "   1.90800463e-02   4.70664197e-03   8.82368297e-03   7.10221475e-03\n",
      "   3.97137937e-03   5.60070693e-04   3.88817177e-03   6.54622614e-04\n",
      "   8.49052599e-03   1.64939604e-03   2.61284212e-03   5.39430671e-03\n",
      "   5.39954046e-03   9.48352711e-04   1.40001433e-02   5.11058674e-03\n",
      "   1.63103964e-03   3.68142625e-03   3.60143001e-03   4.96936323e-03\n",
      "   2.50520526e-04   5.60193996e-04   2.65056449e-04   0.00000000e+00\n",
      "   5.58506838e-04   7.84627017e-05   2.46540514e-02   1.60120829e-03\n",
      "   8.49905776e-03   2.57044102e-03   1.15158915e-02   2.66220622e-04\n",
      "   5.91959221e-04   6.28388059e-04   1.50665791e-03   2.20844069e-03\n",
      "   3.80067336e-03   1.13378685e-04   2.44107302e-03   1.16231274e-02\n",
      "   1.46276109e-04   8.67904340e-03   2.24982648e-03   2.29985837e-03\n",
      "   4.53039644e-02   1.64050793e-03   1.14882556e-02   1.78029243e-02\n",
      "   3.04251461e-03   1.11062210e-02   3.33471529e-04   3.06942023e-03\n",
      "   2.16946741e-03   1.89044686e-03   3.97294613e-03   5.08998364e-04\n",
      "   3.66797623e-03   4.70963987e-03   1.08872578e-02   1.34358553e-04\n",
      "   9.75422754e-03   3.14617367e-03   9.84850505e-03   3.86687357e-03\n",
      "   3.89770413e-04   5.21970778e-03   1.55623206e-03   5.61311112e-03\n",
      "   5.39926987e-03   2.55567533e-03   2.04020010e-03   2.43310354e-03\n",
      "   1.85226275e-03   0.00000000e+00   1.96767330e-03   1.26719457e-03\n",
      "   1.09036868e-02   3.99198694e-03   0.00000000e+00   5.45502112e-04\n",
      "   4.23243100e-03   6.13976742e-04   8.68447563e-06   6.56774118e-04\n",
      "   2.07741512e-03   0.00000000e+00   2.23799419e-03   0.00000000e+00\n",
      "   2.86990425e-02   5.86320646e-03   2.02248065e-03   2.09874980e-03\n",
      "   3.65732158e-04   2.54448581e-03   1.52048308e-03   1.69276344e-03\n",
      "   8.27086945e-04   6.84888072e-04   3.75106768e-03   2.43872698e-04\n",
      "   1.42072583e-02   1.80738568e-03   1.71958744e-02   6.75289410e-03\n",
      "   2.42689230e-03   5.55774858e-03   5.23228740e-06   2.03123876e-03\n",
      "   8.04365603e-04   2.51338377e-05   9.57403924e-04   6.37545910e-04\n",
      "   4.92525919e-05   1.34912978e-02   1.43764016e-02   5.89488636e-03\n",
      "   1.20205150e-04   7.84192013e-03   2.45901639e-03   1.48730883e-04\n",
      "   5.22373349e-04   0.00000000e+00   1.72387281e-03   3.67086340e-04\n",
      "   4.31180152e-04   9.85567128e-04   5.19411190e-04   5.81368308e-06\n",
      "   1.23707898e-03   0.00000000e+00   0.00000000e+00   0.00000000e+00\n",
      "   3.87527037e-03   0.00000000e+00   0.00000000e+00   4.05761818e-04\n",
      "   4.34971727e-04   1.22556529e-04   2.26441387e-03   9.44262295e-03\n",
      "   0.00000000e+00   2.88766965e-03   1.01694915e-02   0.00000000e+00\n",
      "   0.00000000e+00   1.21734245e-03   3.27703554e-03   0.00000000e+00\n",
      "   4.96083551e-03   7.13153724e-03   2.81785392e-02   5.00083347e-04\n",
      "   0.00000000e+00   0.00000000e+00   2.16231396e-02   8.21609454e-03\n",
      "   1.53964588e-03   2.34219464e-04   0.00000000e+00   4.65930767e-03\n",
      "   3.02675930e-03   1.17688596e-03   5.37974684e-02   0.00000000e+00\n",
      "   6.42965204e-03   6.68948351e-03   4.83162518e-03   8.40790343e-03\n",
      "   0.00000000e+00   6.31039243e-04   1.43860823e-03   1.41274444e-03\n",
      "   7.27537286e-04   8.16215481e-04   0.00000000e+00   0.00000000e+00\n",
      "   3.39472121e-04   1.01534296e-03   0.00000000e+00   6.83348407e-03\n",
      "   0.00000000e+00   3.12100281e-02   3.06748466e-04   7.76367377e-05\n",
      "   3.87977436e-02   6.44795887e-03   8.67553499e-04   1.53504827e-02\n",
      "   1.30649137e-02   1.44025388e-02   7.55985490e-02   7.40173969e-02\n",
      "   6.44070289e-02   4.71654490e-02   5.56765794e-02   3.79362410e-02\n",
      "   4.47098189e-02   9.12380659e-02   2.10860447e-02   2.25184288e-02\n",
      "   3.38323607e-02   3.70027752e-03   8.29086298e-04   3.81057897e-03\n",
      "   7.70374975e-03   7.57851025e-04   6.47676783e-05   1.43641954e-03\n",
      "   3.53497415e-04   0.00000000e+00   1.13817291e-03   1.04527803e-02\n",
      "   1.64947862e-03   1.04114609e-04   1.09950695e-02   4.28134557e-03\n",
      "   1.07378707e-04   1.47801684e-03   4.11916677e-03   4.31183167e-03\n",
      "   4.72294847e-03   9.66246091e-03   1.15027524e-03   3.26905766e-03\n",
      "   1.31311681e-03   2.55514587e-03   2.61017207e-03   2.89549882e-03\n",
      "   1.88034724e-02   1.04899777e-02   7.50010310e-03   7.82508879e-03\n",
      "   6.05315224e-03   5.43039908e-03   5.68279103e-03   8.03266004e-03\n",
      "   3.08311668e-03   4.31735886e-03   4.11579591e-03   4.85688303e-03\n",
      "   3.30314708e-03   1.16928897e-03   8.30412680e-03   9.57192415e-03\n",
      "   3.83318834e-03   1.02653935e-02   4.42193762e-03   4.38918370e-03\n",
      "   8.77182542e-03   4.79724024e-03   1.10038648e-02   1.52490533e-02\n",
      "   1.66818868e-02   1.02410522e-02   1.14936753e-03   1.04679261e-03\n",
      "   6.24823163e-04   6.81018142e-03   4.56015449e-03   1.61336929e-03\n",
      "   6.21369884e-03   6.54994332e-04   2.99427008e-03   5.82185135e-03\n",
      "   7.91636553e-03   6.19930475e-03   3.05417776e-03   7.45354957e-03\n",
      "   6.36331319e-03   1.82122610e-03   1.20926295e-03   7.04271063e-03\n",
      "   3.27768626e-02   1.17768291e-04   3.28563084e-04   1.75705751e-03\n",
      "   1.48500149e-03   0.00000000e+00   0.00000000e+00   6.61877249e-04\n",
      "   0.00000000e+00   0.00000000e+00   0.00000000e+00   4.75131611e-04\n",
      "   2.62363899e-05   1.55327107e-03   1.70033327e-05   1.51057402e-05\n",
      "   1.61923653e-04   0.00000000e+00   5.55575257e-04   5.24307628e-04\n",
      "   0.00000000e+00   4.97469395e-04   0.00000000e+00   0.00000000e+00\n",
      "   8.45272360e-04   1.17762512e-03   1.97424704e-04   5.27726764e-04\n",
      "   2.61308867e-04   1.95803774e-04   6.55071894e-05   7.29350553e-03\n",
      "   2.57937950e-03   2.73439757e-03   5.63687909e-03   5.84803220e-03\n",
      "   3.54905493e-03   1.08738140e-02   2.07979283e-02   4.84228407e-03\n",
      "   1.58405936e-03   5.10574648e-04   2.08092147e-03   5.59376065e-03\n",
      "   9.26549865e-04   1.29945772e-02   2.28041783e-03   2.37733940e-03\n",
      "   4.89493792e-03   7.56742652e-03   8.17193757e-05   4.22593280e-03\n",
      "   2.15614826e-05   2.69965882e-03   1.33351534e-03   3.85483782e-04\n",
      "   6.81070037e-04   2.62669679e-03   5.49378393e-03   4.66309163e-04\n",
      "   4.74716389e-03   1.09420414e-02   1.37765798e-03   3.31824341e-03\n",
      "   2.09123137e-03   5.57615636e-05   3.43853880e-03   3.14993700e-02\n",
      "   1.02393416e-02   2.10614996e-04   3.72560346e-03   0.00000000e+00\n",
      "   1.71850833e-04   5.65852851e-04   4.45195501e-03   4.21834135e-05\n",
      "   0.00000000e+00   6.01795797e-03   6.78932185e-03   1.32259019e-03\n",
      "   1.42826094e-03   1.72021609e-02   1.95904560e-02   2.28375156e-04\n",
      "   4.23881674e-04   7.49863435e-03   1.71241718e-02   1.83481586e-02\n",
      "   3.28659563e-02   8.92924139e-03   7.46630828e-05   1.66117749e-02\n",
      "   5.91336563e-03   7.26494598e-03   1.08180695e-02   1.12616071e-04\n",
      "   4.61202186e-03   2.66560043e-04   7.60067383e-03   2.23522718e-03\n",
      "   3.55606024e-03   1.49895294e-03   6.21974531e-03   2.61009342e-03\n",
      "   1.87740230e-02   1.35532130e-02   1.08183944e-02   1.36134683e-04\n",
      "   1.96454782e-02   4.31579948e-04   4.92242703e-05   4.50790574e-05\n",
      "   6.59701320e-05   0.00000000e+00   1.51970735e-04   1.31310660e-03\n",
      "   3.08737265e-04   2.60210290e-03   1.55917789e-04   1.22470224e-04\n",
      "   0.00000000e+00   2.06345112e-04   2.84979543e-04   1.00408327e-04\n",
      "   7.85114234e-04   1.66120979e-03   2.74760431e-03   2.69800092e-03\n",
      "   4.69954258e-04   1.16892178e-02   4.71808072e-03   2.69367193e-02\n",
      "   1.42106011e-04   6.73724735e-04   2.18405639e-03   0.00000000e+00\n",
      "   2.32541916e-04   9.48509485e-04   0.00000000e+00   1.69067424e-04\n",
      "   1.94755652e-03   8.89727210e-05   0.00000000e+00   2.80308339e-04\n",
      "   8.86820616e-03   1.02709172e-02   1.88256759e-03   0.00000000e+00\n",
      "   2.51890888e-03   4.59372328e-03   8.56738966e-05   0.00000000e+00\n",
      "   0.00000000e+00   0.00000000e+00   0.00000000e+00   0.00000000e+00\n",
      "   0.00000000e+00   9.39205245e-06   0.00000000e+00   0.00000000e+00\n",
      "   0.00000000e+00   0.00000000e+00   0.00000000e+00   4.06805035e-05\n",
      "   0.00000000e+00   0.00000000e+00   2.87873336e-03   0.00000000e+00\n",
      "   2.88113863e-05   0.00000000e+00   0.00000000e+00   3.68956039e-05\n",
      "   9.12385309e-04   0.00000000e+00   2.10567099e-05   0.00000000e+00\n",
      "   1.50428722e-03   0.00000000e+00   0.00000000e+00   2.74258566e-03\n",
      "   0.00000000e+00   4.10488810e-05   1.80245133e-04   0.00000000e+00\n",
      "   4.13599875e-04   2.42727284e-05   3.15580496e-04   7.32259701e-05\n",
      "   7.26469648e-06   0.00000000e+00   3.34159129e-03   1.09150049e-05\n",
      "   0.00000000e+00   5.98645351e-04   0.00000000e+00   3.72852687e-04\n",
      "   3.20315190e-05   1.07844820e-02   1.33568027e-03   3.77895013e-03\n",
      "   6.46284490e-03   8.61020122e-03   1.08114997e-02   9.36027371e-04\n",
      "   1.25104775e-03   7.78780623e-03   1.17737124e-02   1.77075099e-03\n",
      "   4.95600778e-03   1.09750510e-02   2.28374448e-03   7.00359907e-03\n",
      "   6.02924765e-03   4.08590241e-03   1.58595169e-03   1.34210903e-02\n",
      "   8.60449441e-05   2.01700334e-05   5.78446910e-03   1.04215976e-02\n",
      "   4.47227191e-04   4.63694547e-03   2.55274146e-03   1.40982593e-02\n",
      "   6.01889538e-03   1.63282202e-03   6.44455435e-03   1.52473360e-02\n",
      "   1.33899247e-03   0.00000000e+00   0.00000000e+00   0.00000000e+00\n",
      "   0.00000000e+00   1.49631676e-03   3.23229324e-03   7.49563084e-05\n",
      "   1.69560194e-03   1.55640870e-04   1.50853862e-03   4.95564257e-03\n",
      "   2.65570119e-03   0.00000000e+00   0.00000000e+00   1.56180857e-04\n",
      "   4.44302009e-04   2.17743190e-03   7.37202170e-05   3.77102346e-05\n",
      "   2.41839819e-02   2.45590248e-03   0.00000000e+00   5.06496917e-04\n",
      "   8.32718146e-04   6.69792364e-05   0.00000000e+00   1.03215091e-02\n",
      "   6.29247962e-04   6.24464745e-05   0.00000000e+00   3.86231966e-04\n",
      "   6.08575380e-04   7.76327294e-04   4.74410094e-04   0.00000000e+00\n",
      "   7.91064139e-06   0.00000000e+00   1.94514095e-03   2.56264415e-04\n",
      "   7.83367540e-05   1.52590084e-02   7.47596477e-05   5.71046517e-03\n",
      "   1.22689351e-04   0.00000000e+00   0.00000000e+00   0.00000000e+00\n",
      "   0.00000000e+00   0.00000000e+00   0.00000000e+00   2.04290092e-03\n",
      "   0.00000000e+00   1.25718391e-03   0.00000000e+00   0.00000000e+00\n",
      "   0.00000000e+00   0.00000000e+00   3.64967944e-05   0.00000000e+00\n",
      "   1.02957983e-05   0.00000000e+00   0.00000000e+00   0.00000000e+00]\n"
     ]
    }
   ],
   "source": [
    "# find the amount of people repeating with respect to the total enrolment\n",
    "# find enrolment in state\n",
    "individual_enrol = np.transpose(sum(np.transpose(boys_all.values)) + sum(np.transpose(girls_all.values)))\n",
    "\n",
    "# ratio of students repeating to students enroled in each district\n",
    "repeat_district = repeat_individual/individual_enrol\n",
    "print(repeat_district)"
   ]
  },
  {
   "cell_type": "code",
   "execution_count": 111,
   "metadata": {},
   "outputs": [],
   "source": [
    "literacy_rate = education_data.loc[:, \"OVERALL_LI\"]\n",
    "\n",
    "literacy_rate.head()\n",
    "\n",
    "#cost_function  = 1.6*literacy_rate/100 + 1.2(Repeat_ratio)\n",
    "LITERACY_WEIGHT = 2.6\n",
    "REPEAT_WEIGHT = 1000\n",
    "\n",
    "cost_func = (literacy_rate - (REPEAT_WEIGHT*repeat_district))/100\n",
    "\n",
    "data_small[\"cost_val\"] = cost_func\n"
   ]
  },
  {
   "cell_type": "code",
   "execution_count": 112,
   "metadata": {},
   "outputs": [],
   "source": [
    "temp = cost_func.argsort()\n",
    "len(cost_func)\n",
    "ranks = np.empty_like(temp)\n",
    "ranks[temp] = np.arange(len(cost_func))"
   ]
  },
  {
   "cell_type": "code",
   "execution_count": 113,
   "metadata": {},
   "outputs": [
    {
     "name": "stdout",
     "output_type": "stream",
     "text": [
      "284\n"
     ]
    },
    {
     "data": {
      "text/plain": [
       "0.76349999999999996"
      ]
     },
     "execution_count": 113,
     "metadata": {},
     "output_type": "execute_result"
    }
   ],
   "source": [
    "print(np.argmax(ranks))\n",
    "\n",
    "data_small.loc[284,\"cost_val\"]"
   ]
  },
  {
   "cell_type": "code",
   "execution_count": 115,
   "metadata": {},
   "outputs": [
    {
     "data": {
      "image/png": "[encoded data removed]",
      "text/plain": [
       "<matplotlib.figure.Figure at 0x24660061b70>"
      ]
     },
     "metadata": {},
     "output_type": "display_data"
    }
   ],
   "source": [
    "plt.plot(ranks,cost_func,'x')\n",
    "plt.show()"
   ]
  },
  {
   "cell_type": "code",
   "execution_count": 101,
   "metadata": {},
   "outputs": [
    {
     "data": {
      "image/png": "[encoded data removed]",
      "text/plain": [
       "<matplotlib.figure.Figure at 0x24660e2efd0>"
      ]
     },
     "metadata": {},
     "output_type": "display_data"
    }
   ],
   "source": [
    "r = (cost_func - np.mean(cost_func))/np.std(cost_func)\n",
    "plt.plot(ranks,r,'x')\n",
    "plt.show()"
   ]
  },
  {
   "cell_type": "markdown",
   "metadata": {},
   "source": [
    "Best Rank: Aizawl, Mizoram: Literacy Rate: 98.5%; Repetition Rate: 3.3E-5 \n",
    "Wo"
   ]
  },
  {
   "cell_type": "code",
   "execution_count": null,
   "metadata": {
    "collapsed": true
   },
   "outputs": [],
   "source": []
  }
 ],
 "metadata": {
  "kernelspec": {
   "display_name": "Python 3",
   "language": "python",
   "name": "python3"
  },
  "language_info": {
   "codemirror_mode": {
    "name": "ipython",
    "version": 3
   },
   "file_extension": ".py",
   "mimetype": "text/x-python",
   "name": "python",
   "nbconvert_exporter": "python",
   "pygments_lexer": "ipython3",
   "version": "3.6.1"
  }
 },
 "nbformat": 4,
 "nbformat_minor": 2
}
