{
 "cells": [
  {
   "cell_type": "code",
   "execution_count": null,
   "metadata": {},
   "outputs": [],
   "source": [
    "import pandas as pd\n",
    "import numpy as np\n",
    "from scipy import stats\n",
    "# import matplotlib.pyplot as plt\n",
    "from matplotlib import pyplot as plt\n",
    "import matplotlib.pylab as plab"
   ]
  },
  {
   "cell_type": "code",
   "execution_count": null,
   "metadata": {
    "collapsed": true
   },
   "outputs": [],
   "source": [
    "education_data = pd.read_csv('2015_16_Districtwise.csv')\n",
    "education_metadata= pd.read_csv('2015_16_Districtwise_Metadata.csv')"
   ]
  },
  {
   "cell_type": "code",
   "execution_count": null,
   "metadata": {},
   "outputs": [],
   "source": [
    "education_data.head()\n"
   ]
  },
  {
   "cell_type": "code",
   "execution_count": null,
   "metadata": {},
   "outputs": [],
   "source": [
    "# tackling ratio of failure rates of students with disabilities vs students without disabilities\n",
    "\n",
    "data_small = education_data.loc[:, \"C1_B\":\"C9_GR\"]\n",
    "boys_all = education_data.loc[:, \"C6_B\":\"C8_B\"];\n",
    "girls_all = education_data.loc[:, \"C6_G\":\"C8_G\"];\n",
    "data_small.shape"
   ]
  },
  {
   "cell_type": "code",
   "execution_count": null,
   "metadata": {
    "collapsed": true
   },
   "outputs": [],
   "source": [
    "# total enrolment of boys and girls\n",
    "t_enrol_boys = sum(sum(boys_all.values[:,:]))\n",
    "t_enrol_girls = sum(sum(girls_all.values[:,:]))\n"
   ]
  },
  {
   "cell_type": "code",
   "execution_count": null,
   "metadata": {},
   "outputs": [],
   "source": [
    "boys_dis = data_small.loc[:,\"C6_BD\":\"C8_BD\"]\n",
    "girls_dis = data_small.loc[:,\"C6_GD\":\"C8_GD\"]\n",
    "t_enrol_dis_boys = sum(sum(boys_dis.values[:,:]))\n",
    "t_enrol_dis_girls = sum(sum(girls_dis.values[:,:]))\n",
    "\n",
    "total_enrol = t_enrol_girls+t_enrol_boys\n",
    "total_dis = t_enrol_dis_girls+t_enrol_dis_boys\n",
    "total_dis/total_enrol"
   ]
  },
  {
   "cell_type": "markdown",
   "metadata": {},
   "source": [
    "Students with disabilities account for nearly 2% of students"
   ]
  },
  {
   "cell_type": "code",
   "execution_count": null,
   "metadata": {},
   "outputs": [],
   "source": [
    "d1 = data_small.loc[:, \"C6_BR\":\"C8_BR\"]\n",
    "d2 = data_small.loc[:, \"C6_GR\":\"C8_GR\"]\n",
    "\n",
    "total_repeat = sum(sum(d1.values[:,:])) + sum(sum(d2.values[:,:]))\n",
    "print(total_dis/total_repeat)"
   ]
  },
  {
   "cell_type": "code",
   "execution_count": null,
   "metadata": {},
   "outputs": [],
   "source": [
    "repeat_individual = np.transpose(sum(np.transpose(d2.values)) + sum(np.transpose(d1.values)))\n",
    "data_small[\"repeat\"] = repeat_individual\n",
    "\n",
    "disability = np.transpose(sum(np.transpose(boys_dis.values)) + sum(np.transpose(girls_dis.values)))\n",
    "data_small[\"disability\"] = disability\n",
    "\n",
    "ratio_repeat = repeat_individual/total_repeat\n",
    "dis_repeat = repeat_individual/disability\n",
    "ratio_total_dis = disability/total_dis\n",
    "\n",
    "data_small[\"ratio_total_dis\"] = disability/total_dis\n",
    "\n",
    "\n",
    "# shows the ratio of repeaters with respect to total repeators\n",
    "data_small[\"ratio_repeat\"] = ratio_repeat\n",
    "\n",
    "# show number of repeators with respect to number of disability\n",
    "data_small[\"ratio_dis\"] = dis_repeat"
   ]
  },
  {
   "cell_type": "code",
   "execution_count": null,
   "metadata": {},
   "outputs": [],
   "source": [
    "data_small.head()"
   ]
  },
  {
   "cell_type": "code",
   "execution_count": null,
   "metadata": {},
   "outputs": [],
   "source": [
    "max(data_small.loc[:, \"ratio_repeat\"])"
   ]
  },
  {
   "cell_type": "code",
   "execution_count": null,
   "metadata": {},
   "outputs": [],
   "source": [
    "stats.linregress(ratio_repeat, ratio_total_dis)"
   ]
  },
  {
   "cell_type": "code",
   "execution_count": null,
   "metadata": {},
   "outputs": [],
   "source": [
    "plt.xlabel('Ratio: repeats in district vs total repeats')\n",
    "plt.ylabel('Ratio: disabilities in district vs total disabilities')\n",
    "plt.plot(ratio_repeat, ratio_total_dis,'o')\n"
   ]
  },
  {
   "cell_type": "code",
   "execution_count": null,
   "metadata": {},
   "outputs": [],
   "source": [
    "plt.show()"
   ]
  },
  {
   "cell_type": "code",
   "execution_count": null,
   "metadata": {
    "collapsed": true
   },
   "outputs": [],
   "source": []
  },
  {
   "cell_type": "code",
   "execution_count": null,
   "metadata": {
    "collapsed": true
   },
   "outputs": [],
   "source": []
  }
 ],
 "metadata": {
  "kernelspec": {
   "display_name": "Python 3",
   "language": "python",
   "name": "python3"
  },
  "language_info": {
   "codemirror_mode": {
    "name": "ipython",
    "version": 3
   },
   "file_extension": ".py",
   "mimetype": "text/x-python",
   "name": "python",
   "nbconvert_exporter": "python",
   "pygments_lexer": "ipython3",
   "version": "3.6.1"
  }
 },
 "nbformat": 4,
 "nbformat_minor": 2
}
