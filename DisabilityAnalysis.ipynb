{
 "cells": [
  {
   "cell_type": "code",
   "execution_count": 1,
   "metadata": {
    "collapsed": true
   },
   "outputs": [],
   "source": [
    "import pandas as pd\n",
    "import numpy as np"
   ]
  },
  {
   "cell_type": "code",
   "execution_count": 8,
   "metadata": {
    "collapsed": true
   },
   "outputs": [],
   "source": [
    "education_data = pd.read_csv('2015_16_Districtwise.csv')\n",
    "education_metadata= pd.read_csv('2015_16_Districtwise_Metadata.csv')"
   ]
  },
  {
   "cell_type": "code",
   "execution_count": 10,
   "metadata": {},
   "outputs": [
    {
     "data": {
      "text/html": [
       "<div>\n",
       "<style>\n",
       "    .dataframe thead tr:only-child th {\n",
       "        text-align: right;\n",
       "    }\n",
       "\n",
       "    .dataframe thead th {\n",
       "        text-align: left;\n",
       "    }\n",
       "\n",
       "    .dataframe tbody tr th {\n",
       "        vertical-align: top;\n",
       "    }\n",
       "</style>\n",
       "<table border=\"1\" class=\"dataframe\">\n",
       "  <thead>\n",
       "    <tr style=\"text-align: right;\">\n",
       "      <th></th>\n",
       "      <th>STATNAME</th>\n",
       "      <th>DISTNAME</th>\n",
       "      <th>DISTRICTS</th>\n",
       "      <th>BLOCKS</th>\n",
       "      <th>VILLAGES</th>\n",
       "      <th>CLUSTERS</th>\n",
       "      <th>TOTPOPULAT</th>\n",
       "      <th>P_URB_POP</th>\n",
       "      <th>POPULATION_0_6</th>\n",
       "      <th>GROWTHRATE</th>\n",
       "      <th>...</th>\n",
       "      <th>UUNI_ALL</th>\n",
       "      <th>UUNI_SC</th>\n",
       "      <th>UUNI_ST</th>\n",
       "      <th>TOTCLS1G</th>\n",
       "      <th>TOTCLS2G</th>\n",
       "      <th>TOTCLS3G</th>\n",
       "      <th>TOTCLS4G</th>\n",
       "      <th>TOTCLS5G</th>\n",
       "      <th>TOTCLS6G</th>\n",
       "      <th>TOTCLS7G</th>\n",
       "    </tr>\n",
       "  </thead>\n",
       "  <tbody>\n",
       "    <tr>\n",
       "      <th>0</th>\n",
       "      <td>JAMMU &amp; KASHMIR</td>\n",
       "      <td>KUPWARA</td>\n",
       "      <td>1</td>\n",
       "      <td>13</td>\n",
       "      <td>391</td>\n",
       "      <td>104</td>\n",
       "      <td>875564.0</td>\n",
       "      <td>11.33</td>\n",
       "      <td>197001.90</td>\n",
       "      <td>34.62</td>\n",
       "      <td>...</td>\n",
       "      <td>21322</td>\n",
       "      <td>26</td>\n",
       "      <td>2594</td>\n",
       "      <td>3489</td>\n",
       "      <td>5315</td>\n",
       "      <td>27</td>\n",
       "      <td>62</td>\n",
       "      <td>23</td>\n",
       "      <td>852</td>\n",
       "      <td>239</td>\n",
       "    </tr>\n",
       "    <tr>\n",
       "      <th>1</th>\n",
       "      <td>JAMMU &amp; KASHMIR</td>\n",
       "      <td>BARAMULA</td>\n",
       "      <td>1</td>\n",
       "      <td>18</td>\n",
       "      <td>678</td>\n",
       "      <td>144</td>\n",
       "      <td>1015503.0</td>\n",
       "      <td>17.19</td>\n",
       "      <td>161871.18</td>\n",
       "      <td>20.34</td>\n",
       "      <td>...</td>\n",
       "      <td>17307</td>\n",
       "      <td>0</td>\n",
       "      <td>1571</td>\n",
       "      <td>4127</td>\n",
       "      <td>5800</td>\n",
       "      <td>210</td>\n",
       "      <td>53</td>\n",
       "      <td>30</td>\n",
       "      <td>1665</td>\n",
       "      <td>360</td>\n",
       "    </tr>\n",
       "    <tr>\n",
       "      <th>2</th>\n",
       "      <td>JAMMU &amp; KASHMIR</td>\n",
       "      <td>SRINAGAR</td>\n",
       "      <td>1</td>\n",
       "      <td>8</td>\n",
       "      <td>94</td>\n",
       "      <td>65</td>\n",
       "      <td>1269751.0</td>\n",
       "      <td>98.73</td>\n",
       "      <td>155798.45</td>\n",
       "      <td>23.56</td>\n",
       "      <td>...</td>\n",
       "      <td>5444</td>\n",
       "      <td>31</td>\n",
       "      <td>408</td>\n",
       "      <td>817</td>\n",
       "      <td>3284</td>\n",
       "      <td>886</td>\n",
       "      <td>11</td>\n",
       "      <td>0</td>\n",
       "      <td>2873</td>\n",
       "      <td>40</td>\n",
       "    </tr>\n",
       "    <tr>\n",
       "      <th>3</th>\n",
       "      <td>JAMMU &amp; KASHMIR</td>\n",
       "      <td>BADGAM</td>\n",
       "      <td>1</td>\n",
       "      <td>13</td>\n",
       "      <td>523</td>\n",
       "      <td>104</td>\n",
       "      <td>735753.0</td>\n",
       "      <td>11.74</td>\n",
       "      <td>150755.79</td>\n",
       "      <td>21.18</td>\n",
       "      <td>...</td>\n",
       "      <td>12469</td>\n",
       "      <td>18</td>\n",
       "      <td>857</td>\n",
       "      <td>2290</td>\n",
       "      <td>3837</td>\n",
       "      <td>119</td>\n",
       "      <td>45</td>\n",
       "      <td>8</td>\n",
       "      <td>1035</td>\n",
       "      <td>325</td>\n",
       "    </tr>\n",
       "    <tr>\n",
       "      <th>4</th>\n",
       "      <td>JAMMU &amp; KASHMIR</td>\n",
       "      <td>PULWAMA</td>\n",
       "      <td>1</td>\n",
       "      <td>8</td>\n",
       "      <td>359</td>\n",
       "      <td>64</td>\n",
       "      <td>570060.0</td>\n",
       "      <td>13.80</td>\n",
       "      <td>97651.28</td>\n",
       "      <td>29.18</td>\n",
       "      <td>...</td>\n",
       "      <td>7408</td>\n",
       "      <td>17</td>\n",
       "      <td>855</td>\n",
       "      <td>1688</td>\n",
       "      <td>2584</td>\n",
       "      <td>151</td>\n",
       "      <td>67</td>\n",
       "      <td>5</td>\n",
       "      <td>1101</td>\n",
       "      <td>209</td>\n",
       "    </tr>\n",
       "  </tbody>\n",
       "</table>\n",
       "<p>5 rows × 816 columns</p>\n",
       "</div>"
      ],
      "text/plain": [
       "          STATNAME  DISTNAME  DISTRICTS  BLOCKS  VILLAGES  CLUSTERS  \\\n",
       "0  JAMMU & KASHMIR   KUPWARA          1      13       391       104   \n",
       "1  JAMMU & KASHMIR  BARAMULA          1      18       678       144   \n",
       "2  JAMMU & KASHMIR  SRINAGAR          1       8        94        65   \n",
       "3  JAMMU & KASHMIR    BADGAM          1      13       523       104   \n",
       "4  JAMMU & KASHMIR   PULWAMA          1       8       359        64   \n",
       "\n",
       "   TOTPOPULAT  P_URB_POP  POPULATION_0_6  GROWTHRATE    ...     UUNI_ALL  \\\n",
       "0    875564.0      11.33       197001.90       34.62    ...        21322   \n",
       "1   1015503.0      17.19       161871.18       20.34    ...        17307   \n",
       "2   1269751.0      98.73       155798.45       23.56    ...         5444   \n",
       "3    735753.0      11.74       150755.79       21.18    ...        12469   \n",
       "4    570060.0      13.80        97651.28       29.18    ...         7408   \n",
       "\n",
       "   UUNI_SC  UUNI_ST  TOTCLS1G  TOTCLS2G  TOTCLS3G  TOTCLS4G  TOTCLS5G  \\\n",
       "0       26     2594      3489      5315        27        62        23   \n",
       "1        0     1571      4127      5800       210        53        30   \n",
       "2       31      408       817      3284       886        11         0   \n",
       "3       18      857      2290      3837       119        45         8   \n",
       "4       17      855      1688      2584       151        67         5   \n",
       "\n",
       "   TOTCLS6G  TOTCLS7G  \n",
       "0       852       239  \n",
       "1      1665       360  \n",
       "2      2873        40  \n",
       "3      1035       325  \n",
       "4      1101       209  \n",
       "\n",
       "[5 rows x 816 columns]"
      ]
     },
     "execution_count": 10,
     "metadata": {},
     "output_type": "execute_result"
    }
   ],
   "source": [
    "education_data.head()\n"
   ]
  },
  {
   "cell_type": "code",
   "execution_count": 35,
   "metadata": {},
   "outputs": [
    {
     "data": {
      "text/plain": [
       "(680, 54)"
      ]
     },
     "execution_count": 35,
     "metadata": {},
     "output_type": "execute_result"
    }
   ],
   "source": [
    "# tackling ratio of failure rates of students with disabilities vs students without disabilities\n",
    "\n",
    "data_small = education_data.loc[:, \"C1_B\":\"C9_GR\"]\n",
    "boys_all = education_data.loc[:, \"C6_B\":\"C9_B\"];\n",
    "girls_all = education_data.loc[:, \"C6_G\":\"C9_G\"];\n",
    "data_small.shape"
   ]
  },
  {
   "cell_type": "code",
   "execution_count": 36,
   "metadata": {},
   "outputs": [
    {
     "name": "stdout",
     "output_type": "stream",
     "text": [
      "42612270\n"
     ]
    }
   ],
   "source": [
    "t_enrol_boys = sum(sum(boys_all.values[:,:]))\n",
    "t_enrol_girls = sum(sum(girls_all.values[:,:]))\n",
    "\n",
    "print(t_enrol_girls)"
   ]
  },
  {
   "cell_type": "code",
   "execution_count": null,
   "metadata": {
    "collapsed": true
   },
   "outputs": [],
   "source": []
  }
 ],
 "metadata": {
  "kernelspec": {
   "display_name": "Python 3",
   "language": "python",
   "name": "python3"
  },
  "language_info": {
   "codemirror_mode": {
    "name": "ipython",
    "version": 3
   },
   "file_extension": ".py",
   "mimetype": "text/x-python",
   "name": "python",
   "nbconvert_exporter": "python",
   "pygments_lexer": "ipython3",
   "version": "3.6.1"
  }
 },
 "nbformat": 4,
 "nbformat_minor": 2
}
