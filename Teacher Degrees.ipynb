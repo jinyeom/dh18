{
 "cells": [
  {
   "cell_type": "raw",
   "metadata": {},
   "source": [
    "# What I want to do:\n",
    "    - separate teachers with X qualification by Y state\n",
    "    - Look at all the grade repeaters in Y state\n",
    "    - Calculate a ratio and compare "
   ]
  },
  {
   "cell_type": "code",
   "execution_count": 1,
   "metadata": {},
   "outputs": [],
   "source": [
    "#Package imports\n",
    "import pandas as pd\n",
    "import numpy as np"
   ]
  },
  {
   "cell_type": "code",
   "execution_count": 18,
   "metadata": {
    "scrolled": true
   },
   "outputs": [],
   "source": [
    "e_metadata = pd.read_csv('2015_16_Districtwise_Metadata.csv')\n",
    "e_data = pd.read_csv('2015_16_Districtwise.csv')\n",
    "\n",
    "#\n",
    "state_dist_names = e_data[['STATNAME','DISTNAME']] #table with state & district names\n",
    "teachers_qualif_table = e_data.loc[:,'TCHBS1':'TCHPD7'] #table of teachers with each level of qualification\n",
    "boys_grade_repeat_table = e_data.loc[:,'C1_BR':'C9_BR'] #table with number of boys who repeated each grade\n",
    "girls_grade_report_table = e_data.loc[:,'C1_GR':'C9_GR'] #table with number of girls who repeated each grade\n",
    "#\n",
    "\n",
    "\n",
    "##\n",
    "df = pd.DataFrame(state_dist_names)\n",
    "state_names = []\n",
    "district_names = []\n",
    "\n",
    "for row_index,row in df.iterrows():\n",
    "    if row['STATNAME'] not in state_names:\n",
    "        state_names.append(row['STATNAME'])\n",
    "    if row['DISTNAME'] not in district_names:\n",
    "        district_names.append(row['DISTNAME'])\n",
    "##\n"
   ]
  },
  {
   "cell_type": "code",
   "execution_count": 20,
   "metadata": {},
   "outputs": [
    {
     "data": {
      "text/plain": [
       "STATNAME    JAMMU & KASHMIRJAMMU & KASHMIRJAMMU & KASHMIRJ...\n",
       "dtype: object"
      ]
     },
     "execution_count": 20,
     "metadata": {},
     "output_type": "execute_result"
    }
   ],
   "source": [
    "test = e_data[['STATNAME','TCHBS1','TCHBS2','TCHBS3','TCHBS4','TCHBS5','TCHBS6','TCHBS7']]\n",
    "test.agg({'STATNAME' : 'sum'})"
   ]
  },
  {
   "cell_type": "code",
   "execution_count": null,
   "metadata": {},
   "outputs": [],
   "source": []
  }
 ],
 "metadata": {
  "kernelspec": {
   "display_name": "Python 3",
   "language": "python",
   "name": "python3"
  },
  "language_info": {
   "codemirror_mode": {
    "name": "ipython",
    "version": 3
   },
   "file_extension": ".py",
   "mimetype": "text/x-python",
   "name": "python",
   "nbconvert_exporter": "python",
   "pygments_lexer": "ipython3",
   "version": "3.6.3"
  }
 },
 "nbformat": 4,
 "nbformat_minor": 2
}
